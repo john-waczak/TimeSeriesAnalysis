{
 "cells": [
  {
   "cell_type": "code",
   "execution_count": 2,
   "id": "fa00d489-94bc-412c-8c77-b788226b6f04",
   "metadata": {},
   "outputs": [],
   "source": [
    "import numpy as np\n",
    "import matplotlib.pyplot as plt \n",
    "import pandas as pd \n",
    "import influxdb_client\n",
    "import json \n",
    "import os"
   ]
  },
  {
   "cell_type": "code",
   "execution_count": 3,
   "id": "e8ffc369-5bca-45fb-a0eb-6bda1672fb4a",
   "metadata": {},
   "outputs": [
    {
     "name": "stdout",
     "output_type": "stream",
     "text": [
      "{'userid': '09e7145dd4ba4000', 'orgid': '021a3a1060b9e43b', 'orgname': 'MINTS', 'token': '4G3KpbuEGzN1zbo6V8UyF5Lk8MJ2BkUp69NiojUDyvVYtE-b9ACe_zb-1C4zkYYFB3431Tno7WMt3PAa4HVpMw==', 'bucket': 'SharedAirDFW'}\n"
     ]
    }
   ],
   "source": [
    "f = open('./credentials.json')\n",
    "creds = json.loads(f.read())\n",
    "f.close()\n",
    "print(creds)"
   ]
  },
  {
   "cell_type": "code",
   "execution_count": null,
   "id": "13e309e3-d950-45b6-904a-3e2cd25020dc",
   "metadata": {},
   "outputs": [],
   "source": []
  }
 ],
 "metadata": {
  "kernelspec": {
   "display_name": "Python [conda env:havok]",
   "language": "python",
   "name": "conda-env-havok-py"
  },
  "language_info": {
   "codemirror_mode": {
    "name": "ipython",
    "version": 3
   },
   "file_extension": ".py",
   "mimetype": "text/x-python",
   "name": "python",
   "nbconvert_exporter": "python",
   "pygments_lexer": "ipython3",
   "version": "3.12.4"
  }
 },
 "nbformat": 4,
 "nbformat_minor": 5
}
